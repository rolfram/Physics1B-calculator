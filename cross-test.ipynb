{
 "cells": [
  {
   "cell_type": "code",
   "execution_count": null,
   "metadata": {},
   "outputs": [],
   "source": [
    "import csv"
   ]
  },
  {
   "cell_type": "code",
   "execution_count": null,
   "metadata": {},
   "outputs": [],
   "source": [
    "# Define the header\n",
    "header = [['First Name','Last Name','Email','ID','HW Total % (Max: 20%)','Quiz Total % (Max: 80%)','Overall Grade']]\n",
    "hw_t = 8*1 \n",
    "quiz_t = 8*4 # max will be 10 after final\n",
    "quiz_perc = 0.8\n",
    "hw_perc = 0.2\n",
    "del_num = 5 # change to 5 toward the end (5 quizzes get dropped)"
   ]
  },
  {
   "cell_type": "code",
   "execution_count": null,
   "metadata": {},
   "outputs": [],
   "source": [
    "hw_rows = []\n",
    "with open('Phys1B-HW-3-5-21.csv', 'r') as hw:\n",
    "    reader = csv.reader(hw)\n",
    "    for line in reader:\n",
    "        if line[3] == 'ID':\n",
    "            pass\n",
    "        else:\n",
    "            hw1 = int(line[4])/int(line[16])\n",
    "            hw2 = int(line[5])/int(line[17])\n",
    "            hw3 = int(line[6])/int(line[18])\n",
    "            hw4 = int(line[7])/int(line[19])\n",
    "            hw5 = int(line[8])/int(line[20])\n",
    "            hw6 = int(line[9])/int(line[21])\n",
    "            hw7 = int(line[10])/int(line[22])\n",
    "            hw8 = 0.5*(5/8*(int(line[11])/int(line[23])) + 11/8*(int(line[12])/int(line[24])))\n",
    "            # add only required HW\n",
    "            h_r = hw1 + hw2 + hw3 + hw4 + hw5 + hw6 + hw7 + hw8\n",
    "            hw_rows.append([line[0],line[1],line[2],line[3],h_r])"
   ]
  },
  {
   "cell_type": "code",
   "execution_count": null,
   "metadata": {},
   "outputs": [],
   "source": [
    "quiz_us_rows = []\n",
    "scores_us = []\n",
    "with open('Phys1B-USquiz-3-5-21.csv', 'r') as quiz:\n",
    "    reader = csv.reader(quiz)\n",
    "    for line in reader:\n",
    "        if line[3] == 'ID':\n",
    "            pass\n",
    "        else:\n",
    "            quiz1a = int(float(line[4]))\n",
    "            quiz1b = int(float(line[5]))\n",
    "            quiz2a = int(float(line[6]))\n",
    "            quiz2b = int(float(line[7]))\n",
    "            quiz3a = int(float(line[8]))\n",
    "            quiz3b = int(float(line[9]))\n",
    "            quiz4a = int(float(line[10]))\n",
    "            quiz4b = int(float(line[11]))\n",
    "            scores_us = [quiz1a,quiz1b,quiz2a,quiz2b,quiz3a,quiz3b,quiz4a,quiz4b]\n",
    "            # Add routine here to remove lowest 5 blocks.\n",
    "            quiz_us_rows.append([line[0],line[1],line[2],line[3],scores_us])\n",
    "            \n",
    "quiz_a_rows = []\n",
    "scores_a = []\n",
    "with open('Phys1B-Aquiz-3-5-21.csv', 'r') as quiz:\n",
    "    reader = csv.reader(quiz)\n",
    "    for line in reader:\n",
    "        if line[3] == 'ID':\n",
    "            pass\n",
    "        else:\n",
    "            quiz1a = int(float(line[4]))\n",
    "            quiz1b = int(float(line[5]))\n",
    "            quiz2a = int(float(line[6]))\n",
    "            quiz2b = int(float(line[7]))\n",
    "            quiz3a = int(float(line[8]))\n",
    "            quiz3b = int(float(line[9]))\n",
    "            quiz4a = int(float(line[10]))\n",
    "            quiz4b = int(float(line[11]))\n",
    "            scores_a = [quiz1a,quiz1b,quiz2a,quiz2b,quiz3a,quiz3b,quiz4a,quiz4b]\n",
    "            # Add routine here to remove lowest 5 blocks.\n",
    "            quiz_a_rows.append([line[0],line[1],line[2],line[3],scores_a])"
   ]
  },
  {
   "cell_type": "code",
   "execution_count": null,
   "metadata": {},
   "outputs": [],
   "source": [
    "combined_quiz = []\n",
    "comb_score = [0,0,0,0,0,0,0,0]\n",
    "for i in quiz_us_rows:\n",
    "    for j in quiz_a_rows:\n",
    "        if i[2] == j[2] and i[3] == j[3]:\n",
    "            for k in range(8):\n",
    "                if i[4][k] >= j[4][k]:\n",
    "                    comb_score[k] = i[4][k]\n",
    "                else:\n",
    "                    comb_score[k] = j[4][k]\n",
    "            combined_quiz.append([i[0],i[1],i[2],i[3],sum(comb_score)])\n",
    "        else:\n",
    "            pass\n",
    "# print(combined_quiz)"
   ]
  },
  {
   "cell_type": "code",
   "execution_count": null,
   "metadata": {},
   "outputs": [],
   "source": [
    "# Combine both the hw and quiz list.\n",
    "overall_score = []\n",
    "for i in hw_rows:\n",
    "    for k in combined_quiz:\n",
    "        if i[2] == k[2] and i[3] == k[3]:\n",
    "            hw_total_perc = (i[4]/hw_t)*hw_perc\n",
    "            quiz_total_perc = (k[4]/quiz_t)*quiz_perc\n",
    "            person_score = (hw_total_perc + quiz_total_perc) * 100\n",
    "            overall_score.append([i[0],i[1],i[2],k[3],str(hw_total_perc*100) +'%',str(quiz_total_perc*100)+'%'\n",
    "                                  ,str(person_score)+'%'])\n",
    "        else:\n",
    "            pass"
   ]
  },
  {
   "cell_type": "code",
   "execution_count": null,
   "metadata": {},
   "outputs": [],
   "source": [
    "file = open('Phys1B-comb-Grades.csv', 'w+', newline='')\n",
    "with file:\n",
    "    write = csv.writer(file)\n",
    "    write.writerows(header)\n",
    "    write.writerows(overall_score)"
   ]
  }
 ],
 "metadata": {
  "kernelspec": {
   "display_name": "Python 3",
   "language": "python",
   "name": "python3"
  },
  "language_info": {
   "codemirror_mode": {
    "name": "ipython",
    "version": 3
   },
   "file_extension": ".py",
   "mimetype": "text/x-python",
   "name": "python",
   "nbconvert_exporter": "python",
   "pygments_lexer": "ipython3",
   "version": "3.7.2"
  }
 },
 "nbformat": 4,
 "nbformat_minor": 2
}
